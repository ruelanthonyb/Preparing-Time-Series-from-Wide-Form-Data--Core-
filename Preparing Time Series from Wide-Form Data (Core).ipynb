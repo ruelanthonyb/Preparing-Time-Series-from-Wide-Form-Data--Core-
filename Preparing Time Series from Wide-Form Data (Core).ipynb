{
 "cells": [
  {
   "cell_type": "markdown",
   "id": "dd76ab70",
   "metadata": {},
   "source": [
    "## (Core) Preparing Time Series from Wide-Form Data\n",
    "You will be working with Zillow's publicly available Zillow House Value Index (ZHVI) https://www.zillow.com/research/data/\n",
    "\n",
    "* Specifically, you will be using the Home Value data set for:\n",
    "    * Data Type = \"ZHVI All Homes (SFR+Condo/Coop) - Time Series - Smoothed - Seasonally Adjusted\"\n",
    "    * Geography = \"City\"\n",
    "* We have already downloaded the file for you and uploaded it to Google Drive.\n",
    "    * Share URL: https://drive.google.com/file/d/1O_g44QAfe3uVF-1heAC0BAeVDoWloVR-/view?usp=sharing\n",
    "    * Direct URL (for Pandas): https://docs.google.com/spreadsheets/d/e/2PACX-1vQN3Ksa9szQuO4G1-msXWAp17KtVHQCBnuEieu_auu1wSiBf3-krHusIx5VBMkihxj-KZLBosDIGEyR/pub?output=csv\n",
    "\n",
    "### Task\n",
    "### Part 1\n",
    "\n",
    "* First, you will prepare the dataset for time series analysis:\n",
    "    * Load in the Zillow Home Value Index dataframe.\n",
    "        * Note: it is a large file and may take a minute to load.\n",
    "    * Filter the 4 largest cities into a new dataframe.\n",
    "        * Tip: the \"SizeRank\" column has already ranked the cities by size. The larger the city, the smaller the rank value.\n",
    "            * Therefore the 4 largest cities would have rank values of [0,1,2,3]\n",
    "    * Melt the data to long-form and prepare it for time series analysis.\n",
    "        * Convert the melted dates into datetime datatype.\n",
    "        * Make the datetime column the index.\n",
    "    * Resample the dataframe as monthly frequency, grouped by City.\n",
    "\n",
    "### Part 2\n",
    "\n",
    "* Once you've prepared the dataframe with the time series data for the 4 largest cities:\n",
    "    * Plot the home values for all 4 cities. (Hint: use unstack)\n",
    "        * Make sure to add a title and axis labels.\n",
    "        * Reformat the y-axis ticks to use thousands of dollars with a \"K\" at the end. (e.g. \"200K, 400K, etc\")\n",
    "            * Hint: use the FuncFormatter from matplotlib.\n",
    "    * Answer the following 2 questions using pandas:\n",
    "        * 1) Which City had the highest Typical Home Value at the end of 2008? Which had the least?\n",
    "            * Hint: You can use the unstacked dataframe or use pd.IndexSlice with the multiindex.\n",
    "        * 2) How much did the home values change from November 2008 to December 2008 (in dollars)?\n",
    "            * Hint: you can use .diff() to calculate the change in values"
   ]
  },
  {
   "cell_type": "code",
   "execution_count": null,
   "id": "63c25d5e",
   "metadata": {},
   "outputs": [],
   "source": []
  },
  {
   "cell_type": "code",
   "execution_count": null,
   "id": "d9d65ac8",
   "metadata": {},
   "outputs": [],
   "source": []
  },
  {
   "cell_type": "code",
   "execution_count": null,
   "id": "6de5bb0b",
   "metadata": {},
   "outputs": [],
   "source": []
  },
  {
   "cell_type": "code",
   "execution_count": null,
   "id": "b23e27c9",
   "metadata": {},
   "outputs": [],
   "source": []
  },
  {
   "cell_type": "code",
   "execution_count": null,
   "id": "bd2b0c2e",
   "metadata": {},
   "outputs": [],
   "source": []
  },
  {
   "cell_type": "code",
   "execution_count": null,
   "id": "40dcdcf8",
   "metadata": {},
   "outputs": [],
   "source": []
  },
  {
   "cell_type": "code",
   "execution_count": null,
   "id": "50b7c59c",
   "metadata": {},
   "outputs": [],
   "source": []
  }
 ],
 "metadata": {
  "kernelspec": {
   "display_name": "Python (dojo-env)",
   "language": "python",
   "name": "dojo-env"
  },
  "language_info": {
   "codemirror_mode": {
    "name": "ipython",
    "version": 3
   },
   "file_extension": ".py",
   "mimetype": "text/x-python",
   "name": "python",
   "nbconvert_exporter": "python",
   "pygments_lexer": "ipython3",
   "version": "3.11.5"
  }
 },
 "nbformat": 4,
 "nbformat_minor": 5
}
